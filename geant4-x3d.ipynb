{
 "cells": [
  {
   "cell_type": "code",
   "execution_count": null,
   "metadata": {},
   "outputs": [],
   "source": [
    "import sys\n",
    "from math import *"
   ]
  },
  {
   "cell_type": "code",
   "execution_count": null,
   "metadata": {},
   "outputs": [],
   "source": [
    "import logging\n",
    "logger = logging.getLogger(\"geant4\")"
   ]
  },
  {
   "cell_type": "code",
   "execution_count": null,
   "metadata": {},
   "outputs": [],
   "source": [
    "import Geant4\n",
    "from Geant4 import cm, mm, MeV, GeV, TeV, G4ThreeVector"
   ]
  },
  {
   "cell_type": "code",
   "execution_count": null,
   "metadata": {},
   "outputs": [],
   "source": [
    "import ROOT"
   ]
  },
  {
   "cell_type": "markdown",
   "metadata": {},
   "source": [
    "### Access run manager global"
   ]
  },
  {
   "cell_type": "code",
   "execution_count": null,
   "metadata": {},
   "outputs": [],
   "source": [
    "manager = Geant4.gRunManager"
   ]
  },
  {
   "cell_type": "markdown",
   "metadata": {},
   "source": [
    "### Define geometry and materials initialization callback class"
   ]
  },
  {
   "cell_type": "code",
   "execution_count": null,
   "metadata": {},
   "outputs": [],
   "source": [
    "class DetectorConstructor(Geant4.G4VUserDetectorConstruction):\n",
    "    def __init__(self):\n",
    "        super().__init__()\n",
    "        \n",
    "        # Create world (box => logical => placement)\n",
    "        #   solid\n",
    "        world_box   = Geant4.G4Box(\"WorldBox\", 10*cm, 10*cm, 25*cm)\n",
    "        #   logical\n",
    "        vacuum = Geant4.G4NistManager.Instance().FindOrBuildMaterial(\"G4_Galactic\")\n",
    "        self.world = Geant4.G4LogicalVolume(world_box, vacuum, \"World\", None, None, None, True)\n",
    "        #   placement\n",
    "        r0 = G4ThreeVector(0, 0, 0)\n",
    "        self.world_placement = Geant4.G4PVPlacement(None, r0, self.world, \"World\", None, False, 0)\n",
    "        \n",
    "        # Create gold cube\n",
    "        #   solid\n",
    "        self.calorimeter_box   = Geant4.G4Box(\"CalorBox\", 5*cm, 5*cm, 5*mm)\n",
    "        #   logical\n",
    "        gold = Geant4.G4NistManager.Instance().FindOrBuildMaterial(\"G4_Au\")\n",
    "        assert gold is not None\n",
    "        self.calorimeter = Geant4.G4LogicalVolume(self.calorimeter_box, gold, \"Calorimeter\",\n",
    "                                                          None, None, None, True)\n",
    "        #   placement\n",
    "        r1 = G4ThreeVector(0, 0, 10.5*cm)\n",
    "        self.calorimeter_placement = Geant4.G4PVPlacement(None, r1, self.calorimeter, \"Calorimeter\",\n",
    "                                                          self.world, False, 0)\n",
    "\n",
    "    def Construct(self):\n",
    "        logger.info(\"construct detector\")\n",
    "        return self.world_placement"
   ]
  },
  {
   "cell_type": "markdown",
   "metadata": {},
   "source": [
    "### Define physics list"
   ]
  },
  {
   "cell_type": "code",
   "execution_count": null,
   "metadata": {},
   "outputs": [],
   "source": [
    "PhysicsList = Geant4.FTFP_BERT"
   ]
  },
  {
   "cell_type": "markdown",
   "metadata": {},
   "source": [
    "### Define particles primary generator"
   ]
  },
  {
   "cell_type": "code",
   "execution_count": null,
   "metadata": {},
   "outputs": [],
   "source": [
    "class PrimaryGenerator(Geant4.G4VUserPrimaryGeneratorAction):\n",
    "\n",
    "    def __init__(self):\n",
    "        super().__init__()\n",
    "\n",
    "        self.energy         = 1.0*GeV\n",
    "        self.energySpread   = 0.2*GeV\n",
    "\n",
    "        self.z          =  0.0*mm\n",
    "\n",
    "        self.gun   = Geant4.G4ParticleGun()\n",
    "\n",
    "        # set particle type\n",
    "        self.particle = Geant4.G4ParticleTable.GetParticleTable().FindParticle(\"gamma\")\n",
    "        assert self.particle is not None\n",
    "        self.gun.SetParticleDefinition(self.particle)\n",
    "\n",
    "\n",
    "    def GeneratePrimaries(self, anEvent):\n",
    "\n",
    "        # set source position\n",
    "        p = Geant4.G4ThreeVector(0.0, 0.0, self.z)\n",
    "        self.gun.SetParticlePosition(p)\n",
    "\n",
    "\n",
    "        # get full energy normal distributed\n",
    "        energy = ROOT.gRandom.Gaus(self.energy, self.energySpread) \n",
    "        if energy < 0.0: energy = 0.0\n",
    "\n",
    "        # set kinetic (!) energy\n",
    "        self.gun.SetParticleEnergy(energy - - self.particle.GetPDGMass())\n",
    "\n",
    "        # shoot momentum direction uniformly by solid angle and set\n",
    "        phi   = ROOT.gRandom.Uniform(0.0, 2.0*pi)\n",
    "        theta = acos(ROOT.gRandom.Uniform(cos(0.03), 1.0))\n",
    "        pdir  = Geant4.G4ThreeVector(sin(theta)*cos(phi), sin(theta)*sin(phi), cos(theta))\n",
    "\n",
    "        self.gun.SetParticleMomentumDirection(pdir)\n",
    "\n",
    "        # create particle\n",
    "        self.gun.GeneratePrimaryVertex(anEvent)\n",
    "\n",
    "        logger.debug(\"generate primary event\")\n"
   ]
  },
  {
   "cell_type": "markdown",
   "metadata": {},
   "source": [
    "### Define event callback (user action) class"
   ]
  },
  {
   "cell_type": "code",
   "execution_count": null,
   "metadata": {},
   "outputs": [],
   "source": [
    "class EventAction(Geant4.G4UserEventAction):\n",
    "    def __init__(self, sd):\n",
    "        super().__init__()\n",
    "        self.sd = sd\n",
    "\n",
    "    def BeginOfEventAction(self, event):\n",
    "        # clean up accumulator\n",
    "        self.sd.energy = 0.0\n",
    "\n",
    "    def EndOfEventAction(self, event):\n",
    "        # fill histogram\n",
    "        self.sd.histogram.Fill(self.sd.energy)"
   ]
  },
  {
   "cell_type": "markdown",
   "metadata": {},
   "source": [
    "### Define simple sensitive detector callback class (calorimeter)"
   ]
  },
  {
   "cell_type": "code",
   "execution_count": null,
   "metadata": {},
   "outputs": [],
   "source": [
    "class CalorimeterDetector(Geant4.G4VSensitiveDetector):\n",
    "\n",
    "    def __init__(self):\n",
    "        super().__init__()\n",
    "        self.energy = 0.0\n",
    "        self.histogram = ROOT.TH1F(\"he\", \"Energy\", 151, -0.05, 1.5+0.05)\n",
    "        self.histogram.GetXaxis().SetTitle(\"MeV\")\n",
    "        self.histogram.GetYaxis().SetTitle(\"events\")\n",
    "\n",
    "    def ProcessHits (self, step, rohistory):\n",
    "        deposit = step.GetTotalEnergyDeposit()/GeV\n",
    "        self.energy += deposit\n",
    "        return True\n"
   ]
  },
  {
   "cell_type": "markdown",
   "metadata": {},
   "source": [
    "## Initialization"
   ]
  },
  {
   "cell_type": "code",
   "execution_count": null,
   "metadata": {},
   "outputs": [],
   "source": [
    "# geometry and materials\n",
    "constructor = DetectorConstructor()\n",
    "manager.SetUserInitialization(constructor)\n",
    "\n",
    "# physics\n",
    "physics = PhysicsList()\n",
    "manager.SetUserInitialization(physics)\n",
    "Geant4.gApplyUICommand(\"/process/had/verbose 0\")\n",
    "Geant4.gApplyUICommand(\"/process/em/verbose 0\")\n",
    "\n",
    "# primary generator\n",
    "generator = PrimaryGenerator()\n",
    "manager.SetUserAction(generator)\n",
    "\n",
    "# sensitive detectors\n",
    "sd = CalorimeterDetector()\n",
    "constructor.calorimeter.SetSensitiveDetector(sd)\n",
    "\n",
    "# event initialization callback\n",
    "eventcallback = EventAction(sd)\n",
    "manager.SetUserAction(eventcallback)\n",
    "\n",
    "manager.Initialize()"
   ]
  },
  {
   "cell_type": "markdown",
   "metadata": {},
   "source": [
    "## Set up visualization parameters and scene contents"
   ]
  },
  {
   "cell_type": "code",
   "execution_count": null,
   "metadata": {},
   "outputs": [],
   "source": [
    "Geant4.gApplyUICommand(\"/vis/viewer/flush\")\n",
    "\n",
    "#Geant4.gApplyUICommand(\"/vis/x3dfile/viewHalfAngle 20\")\n",
    "Geant4.gApplyUICommand(\"/vis/open X3DFILE\")\n",
    "\n",
    "Geant4.gApplyUICommand(\"/vis/viewer/set/autoRefresh false\")\n",
    "Geant4.gApplyUICommand(\"/vis/viewer/refresh\")\n",
    "\n",
    "Geant4.gApplyUICommand(\"/vis/scene/create\")\n",
    "Geant4.gApplyUICommand(\"/vis/scene/add/volume\")\n",
    "\n",
    "\n",
    "Geant4.gApplyUICommand(\"/vis/drawVolume\")\n",
    "\n",
    "Geant4.gApplyUICommand(\"/vis/modeling/trajectories/create/drawByParticleID\")\n",
    "Geant4.gApplyUICommand(\"/vis/modeling/trajectories/drawByParticleID-0/set gamma white\")\n",
    "Geant4.gApplyUICommand(\"/vis/modeling/trajectories/drawByParticleID-0/set proton green\")\n",
    "Geant4.gApplyUICommand(\"/vis/modeling/trajectories/drawByParticleID-0/set e- yellow\")\n",
    "Geant4.gApplyUICommand(\"/vis/modeling/trajectories/drawByParticleID-0/set e+ blue\")\n",
    "\n",
    "Geant4.gApplyUICommand(\"/vis/sceneHandler/attach\")\n",
    "\n",
    "Geant4.gApplyUICommand(\"/tracking/storeTrajectory 1\")\n",
    "Geant4.gApplyUICommand(\"/vis/scene/add/trajectories\")\n",
    "Geant4.gApplyUICommand(\"/vis/scene/add/hits\")\n",
    "Geant4.gApplyUICommand(\"/vis/scene/add/trajectories smooth\")\n",
    "\n",
    "#Geant4.gApplyUICommand(\"/vis/scene/add/eventID 1\")\n",
    "#Geant4.gApplyUICommand(\"/vis/scene/add/date\")\n",
    "Geant4.gApplyUICommand(\"/vis/viewer/set/autoRefresh true\")\n",
    "\n",
    "Geant4.gApplyUICommand(\"/vis/viewer/set/style surface\")\n",
    "Geant4.gApplyUICommand(\"/vis/viewer/set/viewpointThetaPhi 60 10\")\n",
    "\n",
    "Geant4.gApplyUICommand(\"/vis/geometry/set/colour Calorimeter 0 1 0 0 0\")\n",
    "Geant4.gApplyUICommand(\"/vis/geometry/set/colour World 0 0 0 1 0.6\")\n",
    "#Geant4.gApplyUICommand(\"/vis/geometry/set/forceWireframe World 0 1\")\n",
    "\n",
    "Geant4.gApplyUICommand(\"/vis/enable false\")"
   ]
  },
  {
   "cell_type": "markdown",
   "metadata": {},
   "source": [
    "## Cleanup x3d files from old runs"
   ]
  },
  {
   "cell_type": "code",
   "execution_count": null,
   "metadata": {},
   "outputs": [],
   "source": [
    "from os import unlink\n",
    "from glob import glob\n",
    "for fdel in glob(\"g4*.html\"):\n",
    "    unlink(fdel)"
   ]
  },
  {
   "cell_type": "markdown",
   "metadata": {},
   "source": [
    "## Generate three events with visualization enabled"
   ]
  },
  {
   "cell_type": "code",
   "execution_count": null,
   "metadata": {},
   "outputs": [],
   "source": [
    "Geant4.gApplyUICommand(\"/vis/enable true\")\n",
    "manager.BeamOn(3)\n",
    "Geant4.gApplyUICommand(\"/vis/enable false\")\n",
    "\n",
    "print(glob(\"g4_*.html\"))"
   ]
  },
  {
   "cell_type": "markdown",
   "metadata": {},
   "source": [
    "## Show generated events"
   ]
  },
  {
   "cell_type": "code",
   "execution_count": null,
   "metadata": {},
   "outputs": [],
   "source": [
    "import IPython.display"
   ]
  },
  {
   "cell_type": "code",
   "execution_count": null,
   "metadata": {
    "scrolled": false
   },
   "outputs": [],
   "source": [
    "with open(\"g4_00.html\", \"r\") as x3dfile:\n",
    "        data = x3dfile.read()\n",
    "IPython.display.HTML(data)"
   ]
  },
  {
   "cell_type": "code",
   "execution_count": null,
   "metadata": {},
   "outputs": [],
   "source": [
    "with open(\"g4_01.html\", \"r\") as x3dfile:\n",
    "        data = x3dfile.read()\n",
    "IPython.display.HTML(data)"
   ]
  },
  {
   "cell_type": "code",
   "execution_count": null,
   "metadata": {},
   "outputs": [],
   "source": [
    "with open(\"g4_02.html\", \"r\") as x3dfile:\n",
    "        data = x3dfile.read()\n",
    "IPython.display.HTML(data)"
   ]
  }
 ],
 "metadata": {
  "kernelspec": {
   "display_name": "Python 3",
   "language": "python",
   "name": "python3"
  },
  "language_info": {
   "codemirror_mode": {
    "name": "ipython",
    "version": 3
   },
   "file_extension": ".py",
   "mimetype": "text/x-python",
   "name": "python",
   "nbconvert_exporter": "python",
   "pygments_lexer": "ipython3",
   "version": "3.6.8"
  }
 },
 "nbformat": 4,
 "nbformat_minor": 4
}
